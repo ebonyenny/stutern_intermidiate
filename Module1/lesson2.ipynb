{
 "cells": [
  {
   "cell_type": "markdown",
   "metadata": {},
   "source": [
    "Create a function, that repeats the first 2 letters of a word which will be followed by 3 dots and a space after. The string should be ended with a question mark. Look below for examples"
   ]
  },
  {
   "cell_type": "code",
   "execution_count": 15,
   "metadata": {},
   "outputs": [
    {
     "name": "stdout",
     "output_type": "stream",
     "text": [
      "Vi.. Vi.. Victor? \n"
     ]
    }
   ],
   "source": [
    "def b(hello):\n",
    "    print(hello[0:2] + \".. \" + hello[0:2] + \".. \" + hello[0:len(hello)] + \"? \")\n",
    "b(\"Victor\")\n",
    "\n"
   ]
  },
  {
   "cell_type": "markdown",
   "metadata": {},
   "source": [
    "Perform a for loop that searches through a string and prints only distinct vowel letters."
   ]
  },
  {
   "cell_type": "code",
   "execution_count": 3,
   "metadata": {},
   "outputs": [
    {
     "ename": "TypeError",
     "evalue": "'int' object is not iterable",
     "output_type": "error",
     "traceback": [
      "\u001b[0;31m---------------------------------------------------------------------------\u001b[0m",
      "\u001b[0;31mTypeError\u001b[0m                                 Traceback (most recent call last)",
      "Cell \u001b[0;32mIn [3], line 15\u001b[0m\n\u001b[1;32m     12\u001b[0m             \u001b[38;5;28mprint\u001b[39m(\u001b[38;5;124m\"\u001b[39m\u001b[38;5;124mThe word you entered: \u001b[39m\u001b[38;5;124m\"\u001b[39m \u001b[38;5;241m+\u001b[39m word \u001b[38;5;241m+\u001b[39m \u001b[38;5;124m\"\u001b[39m\u001b[38;5;124m contains the following vowels: \u001b[39m\u001b[38;5;124m\"\u001b[39m)\n\u001b[1;32m     13\u001b[0m             \u001b[38;5;28mprint\u001b[39m(mp)\n\u001b[0;32m---> 15\u001b[0m \u001b[43mword_c\u001b[49m\u001b[43m(\u001b[49m\u001b[38;5;124;43m\"\u001b[39;49m\u001b[38;5;124;43mvictor\u001b[39;49m\u001b[38;5;124;43m\"\u001b[39;49m\u001b[43m)\u001b[49m\n",
      "Cell \u001b[0;32mIn [3], line 4\u001b[0m, in \u001b[0;36mword_c\u001b[0;34m(word)\u001b[0m\n\u001b[1;32m      1\u001b[0m \u001b[38;5;28;01mdef\u001b[39;00m \u001b[38;5;21mword_c\u001b[39m(word):\n\u001b[1;32m      2\u001b[0m     vowels \u001b[38;5;241m=\u001b[39m [\u001b[38;5;124m\"\u001b[39m\u001b[38;5;124mA E I O U\u001b[39m\u001b[38;5;124m\"\u001b[39m] \u001b[38;5;66;03m#vowel letters\u001b[39;00m\n\u001b[0;32m----> 4\u001b[0m     \u001b[38;5;28;01mfor\u001b[39;00m i \u001b[38;5;129;01min\u001b[39;00m \u001b[38;5;28mlen\u001b[39m(word): \u001b[38;5;66;03m#to loop through the inputted word\u001b[39;00m\n\u001b[1;32m      5\u001b[0m         \u001b[38;5;28;01mfor\u001b[39;00m x \u001b[38;5;129;01min\u001b[39;00m \u001b[38;5;28mlen\u001b[39m(vowels): \u001b[38;5;66;03m#to loop through the vowels\u001b[39;00m\n\u001b[1;32m      6\u001b[0m             word[i] \u001b[38;5;241m=\u001b[39m vowels[x]  \u001b[38;5;66;03m#to check if both words match\u001b[39;00m\n",
      "\u001b[0;31mTypeError\u001b[0m: 'int' object is not iterable"
     ]
    }
   ],
   "source": [
    "\n",
    "def word_c(word):\n",
    "    vowels = [\"A E I O U\"] #vowel letters\n",
    "    \n",
    "    for i in len(word): #to loop through the inputted word\n",
    "        for x in len(vowels): #to loop through the vowels\n",
    "            word[i] = vowels[x]  #to check if both words match\n",
    "        mp = {} #to store all vowels in the inputed word\n",
    "        for i in word:\n",
    "            mp[i] = mp.get(i, 0) + 1\n",
    "            # word[i] != mp[i] #check if the word exist in list\n",
    "            #  #append the identified vowel to the list\n",
    "            print(\"The word you entered: \" + word + \" contains the following vowels: \")\n",
    "            print(mp)\n",
    "\n",
    "word_c(\"victor\")\n",
    "\n",
    "        "
   ]
  },
  {
   "cell_type": "markdown",
   "metadata": {},
   "source": [
    "Perform a while loop that requests for a name, if that name is entered, it will be printed else, if user types “end” (this command should be case insensitive), the while loop is terminated"
   ]
  },
  {
   "cell_type": "code",
   "execution_count": 38,
   "metadata": {},
   "outputs": [],
   "source": [
    "keep_going = True\n",
    "while keep_going:\n",
    "     name = input('Enter your name, or type quit to end')\n",
    "if name == \"end\":\n",
    "        exit()\n",
    "else:\n",
    "        print(name)\n",
    "        "
   ]
  }
 ],
 "metadata": {
  "kernelspec": {
   "display_name": "Python 3.10.7 64-bit",
   "language": "python",
   "name": "python3"
  },
  "language_info": {
   "codemirror_mode": {
    "name": "ipython",
    "version": 3
   },
   "file_extension": ".py",
   "mimetype": "text/x-python",
   "name": "python",
   "nbconvert_exporter": "python",
   "pygments_lexer": "ipython3",
   "version": "3.10.7"
  },
  "orig_nbformat": 4,
  "vscode": {
   "interpreter": {
    "hash": "aee8b7b246df8f9039afb4144a1f6fd8d2ca17a180786b69acc140d282b71a49"
   }
  }
 },
 "nbformat": 4,
 "nbformat_minor": 2
}
