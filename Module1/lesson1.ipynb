{
 "cells": [
  {
   "cell_type": "markdown",
   "metadata": {},
   "source": [
    "Use else block to display a message “Done” after successful execution of for loop."
   ]
  },
  {
   "cell_type": "code",
   "execution_count": 2,
   "metadata": {},
   "outputs": [
    {
     "name": "stdout",
     "output_type": "stream",
     "text": [
      "Done\n"
     ]
    }
   ],
   "source": [
    "a= 22\n",
    "b=33\n",
    "if b>a:\n",
    "    print (\"Done\")\n",
    "\n",
    "else:\n",
    "    print(\"Try again\")"
   ]
  },
  {
   "cell_type": "markdown",
   "metadata": {},
   "source": [
    "# write a program to display all prime numbers within a range"
   ]
  },
  {
   "cell_type": "code",
   "execution_count": 1,
   "metadata": {},
   "outputs": [
    {
     "name": "stdout",
     "output_type": "stream",
     "text": [
      "Not a prime number:  0\n",
      "Not a prime number:  2\n",
      "Not a prime number:  4\n",
      "Not a prime number:  6\n",
      "Not a prime number:  8\n",
      "Not a prime number:  10\n",
      "Not a prime number:  12\n",
      "Not a prime number:  14\n",
      "Not a prime number:  16\n",
      "Not a prime number:  18\n",
      "Not a prime number:  20\n",
      "Not a prime number:  22\n",
      "Not a prime number:  24\n",
      "Not a prime number:  26\n",
      "Not a prime number:  28\n",
      "Not a prime number:  30\n",
      "Not a prime number:  32\n",
      "Not a prime number:  34\n",
      "Not a prime number:  36\n",
      "Not a prime number:  38\n",
      "Not a prime number:  40\n",
      "Not a prime number:  42\n",
      "Not a prime number:  44\n",
      "Not a prime number:  46\n",
      "Not a prime number:  48\n",
      "Not a prime number:  50\n",
      "Not a prime number:  52\n",
      "Not a prime number:  54\n",
      "Not a prime number:  56\n",
      "Not a prime number:  58\n",
      "Not a prime number:  60\n",
      "Not a prime number:  62\n",
      "Not a prime number:  64\n",
      "Not a prime number:  66\n",
      "Not a prime number:  68\n",
      "Not a prime number:  70\n",
      "Not a prime number:  72\n",
      "Not a prime number:  74\n",
      "Not a prime number:  76\n",
      "Not a prime number:  78\n",
      "Not a prime number:  80\n",
      "Not a prime number:  82\n",
      "Not a prime number:  84\n",
      "Not a prime number:  86\n",
      "Not a prime number:  88\n",
      "Not a prime number:  90\n",
      "Not a prime number:  92\n",
      "Not a prime number:  94\n",
      "Not a prime number:  96\n",
      "Not a prime number:  98\n",
      "[1, 3, 5, 7, 9, 11, 13, 15, 17, 19, 21, 23, 25, 27, 29, 31, 33, 35, 37, 39, 41, 43, 45, 47, 49, 51, 53, 55, 57, 59, 61, 63, 65, 67, 69, 71, 73, 75, 77, 79, 81, 83, 85, 87, 89, 91, 93, 95, 97, 99]\n"
     ]
    }
   ],
   "source": [
    "primeNumbers=[]\n",
    "for i in range (0,100):\n",
    "    if i%2 == 0 :\n",
    "        print( \"Not a prime number: \", i)\n",
    "    else:\n",
    "        primeNumbers.append(i)\n",
    "\n",
    "print(primeNumbers)"
   ]
  },
  {
   "cell_type": "markdown",
   "metadata": {},
   "source": [
    "Use a loop to display elements from a given list present at odd index positions.\n",
    "Steps\n",
    "Declare an array\n",
    "calculate the length of the array \n",
    "Loop through the array to start from the first position 0 and increment by 2 \n",
    "print the element after each increments."
   ]
  },
  {
   "cell_type": "code",
   "execution_count": 9,
   "metadata": {},
   "outputs": [
    {
     "name": "stdout",
     "output_type": "stream",
     "text": [
      "Elements of given list present on odd index positions: \n",
      "1\n",
      "8\n",
      "5\n",
      "8\n",
      "4\n",
      "87\n",
      "7\n",
      "7\n",
      "5\n",
      "8\n",
      "7\n",
      "7\n",
      "65\n"
     ]
    }
   ],
   "source": [
    "x = [1,5,8,3,5,67,8,76,4,6,87,3,7,4,7,3,5,7,8,5,7,65,7,34,65]\n",
    "\n",
    "print(\"Elements of given list present on odd index positions: \");  \n",
    "for i in range(0, len(x), 2):\n",
    "    print(x[i])"
   ]
  },
  {
   "cell_type": "markdown",
   "metadata": {},
   "source": [
    "Calculate the cube of all numbers from 1 to a given number\n",
    "Define a function to calculate the cube \n",
    "write a loop that loops through an array and performs function\n",
    "print function return value"
   ]
  },
  {
   "cell_type": "code",
   "execution_count": 15,
   "metadata": {},
   "outputs": [
    {
     "name": "stdout",
     "output_type": "stream",
     "text": [
      "The Cube of 1  = 1\n",
      "The Cube of 5  = 125\n",
      "The Cube of 8  = 512\n",
      "The Cube of 3  = 27\n",
      "The Cube of 5  = 125\n",
      "The Cube of 67  = 300763\n",
      "The Cube of 8  = 512\n",
      "The Cube of 76  = 438976\n",
      "The Cube of 4  = 64\n",
      "The Cube of 6  = 216\n",
      "The Cube of 87  = 658503\n",
      "The Cube of 3  = 27\n",
      "The Cube of 7  = 343\n",
      "The Cube of 4  = 64\n",
      "The Cube of 7  = 343\n",
      "The Cube of 3  = 27\n",
      "The Cube of 5  = 125\n",
      "The Cube of 7  = 343\n",
      "The Cube of 8  = 512\n",
      "The Cube of 5  = 125\n",
      "The Cube of 7  = 343\n",
      "The Cube of 65  = 274625\n",
      "The Cube of 7  = 343\n",
      "The Cube of 34  = 39304\n",
      "The Cube of 65  = 274625\n"
     ]
    }
   ],
   "source": [
    "def cube(x):\n",
    "    return x * x * x\n",
    "\n",
    "x = [1,5,8,3,5,67,8,76,4,6,87,3,7,4,7,3,5,7,8,5,7,65,7,34,65]\n",
    "for i in x:\n",
    "    cube1 = cube(i)\n",
    "    print(\"The Cube of {0}  = {1}\".format(i, cube1))"
   ]
  }
 ],
 "metadata": {
  "kernelspec": {
   "display_name": "Python 3.10.7 64-bit",
   "language": "python",
   "name": "python3"
  },
  "language_info": {
   "codemirror_mode": {
    "name": "ipython",
    "version": 3
   },
   "file_extension": ".py",
   "mimetype": "text/x-python",
   "name": "python",
   "nbconvert_exporter": "python",
   "pygments_lexer": "ipython3",
   "version": "3.10.7"
  },
  "orig_nbformat": 4,
  "vscode": {
   "interpreter": {
    "hash": "aee8b7b246df8f9039afb4144a1f6fd8d2ca17a180786b69acc140d282b71a49"
   }
  }
 },
 "nbformat": 4,
 "nbformat_minor": 2
}
